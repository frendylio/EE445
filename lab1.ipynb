{
 "cells": [
  {
   "cell_type": "markdown",
   "metadata": {},
   "source": [
    "# Lab 1: Intro to Array Operations: Broadcasting, Inner/Outer Products and More \n",
    "---"
   ]
  },
  {
   "cell_type": "markdown",
   "metadata": {},
   "source": [
    "## Lab Objectives\n",
    "\n",
    "The goals for this lab are to \n",
    "\n",
    "\n",
    "- Understand Array Broadcasting. \n",
    "- How to Perform Typical Operations on Matrices.\n",
    "\n",
    "\n",
    "At the end of each section there will be questions to answer. \n",
    "\n",
    "<span style=\"color:red\">To receive credit for the assignment, the questions must be completed. </span>\n",
    "\n",
    "We will include import statements for commonly used modules in the cell below. Make sure to type `shift enter` to run it.\n"
   ]
  },
  {
   "cell_type": "code",
   "execution_count": 1,
   "metadata": {},
   "outputs": [],
   "source": [
    "import numpy as np\n",
    "\n",
    "# shorthand for importing random module from numpy\n",
    "from numpy import random as npr"
   ]
  },
  {
   "cell_type": "markdown",
   "metadata": {},
   "source": [
    "---\n",
    "## (1) Broadcasting and Array Operations\n",
    "\n",
    "In the previous lab, we mentioned 1-d arrays of the form, \n",
    "$$a=\\begin{bmatrix}a_0\\\\ a_1 \\\\ \\vdots \\\\ a_{n-1} \\end{bmatrix}$$\n",
    "\n",
    "<br>\n",
    "and 2d-arrays, i.e., matrices, which have the form,\n",
    "$$a=\\begin{bmatrix}a_{0,0} & a_{0,1} & \\dots a_{0,m-1}  \\\\ \\vdots & \\dots &  \\vdots \\\\ a_{n-1,0} & a_{0,1} & \\dots a_{n-1,m-1} \\end{bmatrix}$$\n",
    "\n",
    "<br>\n",
    "Linear algebra only defines addition of vectors of the same size:\n",
    "<br>\n",
    "$$\\begin{bmatrix} 1\\\\ 2 \\\\ 3 \\\\ 4 \\end{bmatrix} +\\begin{bmatrix} 8\\\\ 10 \\\\ 12 \\\\ 14 \\end{bmatrix} = \\begin{bmatrix} 9\\\\ 12 \\\\ 15 \\\\ 18 \\end{bmatrix}$$\n",
    "<br>\n",
    "and scalar multiplication:\n",
    "$$\\begin{bmatrix} 1\\\\ 2 \\\\ 3 \\\\ 4 \\end{bmatrix} \\times 5 = \\begin{bmatrix} 5\\\\ 10 \\\\ 15 \\\\ 20 \\end{bmatrix}$$\n",
    "and regular matrix multiplication. For 2d arrays (matrices), matrix multiplication involves first checking if the number of columns of the first matrix equals the number of rows of the second. So if the first matrix has shape (m,r) the second matrix must have shape (r,n) for some number n, else multiplication is undefined. If the matrices have shapes (m,r) and (r,n), the product has shape (m,n).\n",
    "\n",
    "\n",
    "But while writing code, numpy allows for operations such as\n",
    "$$\\begin{bmatrix} 1\\\\ 2 \\\\ 3 \\\\ 4 \\end{bmatrix} + 5 $$\n",
    "It does not mean that we have invented new operations. Rather python interprets the above\n",
    "equation to mean\n",
    "$$\\begin{bmatrix} 1\\\\ 2 \\\\ 3 \\\\ 4 \\end{bmatrix} + \\begin{bmatrix} 5\\\\5\\\\5\\\\5\\end{bmatrix} = \\begin{bmatrix} 6\\\\ 7 \\\\ 8 \\\\ 9 \\end{bmatrix}$$\n",
    "\n",
    "\n",
    "Similary numpy interprets\n",
    "$$\\begin{bmatrix} 1\\\\ 2 \\\\ 3 \\\\ 4 \\end{bmatrix} +\\begin{bmatrix} 1 & 3\\end{bmatrix} $$\n",
    "<br>\n",
    "not as an incompatible vector addtion, but as the following legitimate one:\n",
    "$$\\begin{bmatrix} 1&1\\\\ 2&2 \\\\ 3&3 \\\\ 4&4 \\end{bmatrix} +\\begin{bmatrix} 1 & 3\\\\1&3\\\\1&3\\\\1&3\\end{bmatrix}$$\n",
    "<br>\n",
    "\n",
    "\n",
    "These \"generous interpretations\" built into numpy are called **broadcasting** rules. This often allows for simpler and more human readable/understandable code. The expansions are not arbitrary, and broadcasting cannot always make any two matrices compatible. Rather there are specific rules underlying broadcasting. They are:\n",
    "\n",
    "1. Compare the number of dimensions of each array, if one array dimension is shorter append 1d dimensions on the left until they are the same length.\n",
    "2. Iterate through the new shapes. \n",
    "    1. If the arrays do not match in one dimension, and one array has a one, then repeat the 1d array to match the shape, (where we duplicate the values in the added dimension.\n",
    "    2. If at any point the arrays do not match in a dimension, and neither is one, then they are incompatible.\n",
    "\n",
    "After a common shape is found (if any), operations are performed on the broadcasted new matrices.\n",
    "\n",
    "For example, the shapes\n",
    "```\n",
    " 2x3x1 \n",
    " 3x5\n",
    "```\n",
    "are compatible, and would result in  an array of \n",
    "``` \n",
    " 2x3x5\n",
    "```\n",
    "Let us work through this. Applying step 1, we have, \n",
    "```\n",
    "2x3x1\n",
    "1x3x5\n",
    "```\n",
    "\n",
    "Then step two would result in,\n",
    "```\n",
    "2x3x5\n",
    "2x3x5\n",
    "```\n",
    "if added or multiplied.\n",
    "\n",
    "On the other hand, the shapes\n",
    "```\n",
    " 3x4x2\n",
    " 2x1\n",
    "```\n",
    "are not compatible.\n",
    "After step 1, they would have shapes,\n",
    "```\n",
    " 3x4x2\n",
    " 1x2x1\n",
    "```\n",
    "Then in step 2 part b, they would be deemed incompatible because of the middle dimension.\n",
    "\n",
    "\n",
    "for a more in depth explanation see https://docs.scipy.org/doc/numpy/user/basics.broadcasting.html\n",
    "\n",
    "Now we go over some examples;"
   ]
  },
  {
   "cell_type": "code",
   "execution_count": 2,
   "metadata": {},
   "outputs": [
    {
     "name": "stdout",
     "output_type": "stream",
     "text": [
      "a is the row vector \n",
      " [[0 1 2]] \n",
      " and has shape  (1, 3) \n",
      "\n",
      "b is the column vector \n",
      " [[0]\n",
      " [1]\n",
      " [2]] \n",
      " and has shape  (3, 1) \n",
      "\n",
      "a+b is not a valid matrix operation (you cannot add a row vector to a column, you can only add matrices/vectors of the same shape). But what python understands from a+b here is very different. Both a and b are broadcasted to form 3x3 matrices (can you use the rules above to verify why?). Then python adds the broadcasted matrices to give  \n",
      " [[0 1 2]\n",
      " [1 2 3]\n",
      " [2 3 4]] \n",
      " and the output has shape  (3, 3) \n",
      "\n",
      "a*b is not matrix multiplication, but elementwise multiplication of 2 matrices of the same shape (equivalent to .* in MATLAB). It is unfortunate * is used here. But here, our a and b do not have the same shape, but they can both broadcasted to 3x3 matrices. Then, python performs elementwise multiplication on the broadcasted matrices to output \n",
      " [[0 0 0]\n",
      " [0 1 2]\n",
      " [0 2 4]] \n",
      " and has shape  (3, 3)\n",
      "In both cases, a is boradcasted/expanded to \n",
      " [[0 1 2]\n",
      " [0 1 2]\n",
      " [0 1 2]] \n",
      "\n",
      "And b is broadcasted/expanded to \n",
      " [[0 0 0]\n",
      " [1 1 1]\n",
      " [2 2 2]] \n",
      "\n",
      "This is the regular matrix multiplication between a and b, denoted by a@b, (regular multiplication of a 1x3 and a 3x1 matrix yields a product of size 1x1): \n",
      " [[5]]\n",
      "and the regular multiplication between b and a, denoted by b@a, (a 3x1 and a 1x3 matrix multiply to yield a 3x3 product): \n",
      " [[0 0 0]\n",
      " [0 1 2]\n",
      " [0 2 4]]\n"
     ]
    }
   ],
   "source": [
    "## Example of Compatible shapes\n",
    "a = np.array(np.arange(3)).reshape(1,3)\n",
    "b = np.array(np.arange(3)).reshape(3,1)\n",
    "\n",
    "print(\"a is the row vector \\n\", a, \"\\n and has shape \", a.shape,'\\n')\n",
    "print(\"b is the column vector \\n\", b, \"\\n and has shape \", b.shape,'\\n')\n",
    "\n",
    "print(\"a+b is not a valid matrix operation (you cannot add a row vector to a column, you can only add matrices/vectors of the same shape). But what python understands from a+b here is very different. Both a and b are broadcasted to form 3x3 matrices (can you use the rules above to verify why?). Then python adds the broadcasted matrices to give  \\n\", a+b, \"\\n and the output has shape \", (a+b).shape,'\\n')\n",
    "print(\"a*b is not matrix multiplication, but elementwise multiplication of 2 matrices of the same shape (equivalent to .* in MATLAB). It is unfortunate * is used here. But here, our a and b do not have the same shape, but they can both broadcasted to 3x3 matrices. Then, python performs elementwise multiplication on the broadcasted matrices to output \\n\", a*b, \"\\n and has shape \", (a*b).shape)\n",
    "\n",
    "## They are compatible, here is the result of expanding them to match the new shape of (3,3) \n",
    "print(\"In both cases, a is boradcasted/expanded to \\n\", np.repeat(a,3,axis=0),'\\n')\n",
    "print(\"And b is broadcasted/expanded to \\n\", np.repeat(b,3,axis=1) ,'\\n')\n",
    "\n",
    "## If we wanted to multiply the row vectors:\n",
    "print('This is the regular matrix multiplication between a and b, denoted by a@b, (regular multiplication of a 1x3 and a 3x1 matrix yields a product of size 1x1): \\n', a@b)\n",
    "print('and the regular multiplication between b and a, denoted by b@a, (a 3x1 and a 1x3 matrix multiply to yield a 3x3 product): \\n', b@a)"
   ]
  },
  {
   "cell_type": "code",
   "execution_count": 3,
   "metadata": {
    "scrolled": true
   },
   "outputs": [
    {
     "name": "stdout",
     "output_type": "stream",
     "text": [
      "a is \n",
      " [[0 1 2]\n",
      " [3 4 5]\n",
      " [6 7 8]] \n",
      " and has shape  (3, 3)\n",
      "b is \n",
      " [[0]\n",
      " [1]\n",
      " [2]\n",
      " [3]] \n",
      " and has shape  (4, 1)\n"
     ]
    },
    {
     "ename": "ValueError",
     "evalue": "operands could not be broadcast together with shapes (3,3) (4,1) ",
     "output_type": "error",
     "traceback": [
      "\u001b[0;31m---------------------------------------------------------------------------\u001b[0m",
      "\u001b[0;31mValueError\u001b[0m                                Traceback (most recent call last)",
      "\u001b[0;32m<ipython-input-3-d2bdd738ce63>\u001b[0m in \u001b[0;36m<module>\u001b[0;34m\u001b[0m\n\u001b[1;32m      5\u001b[0m \u001b[0mprint\u001b[0m\u001b[0;34m(\u001b[0m\u001b[0;34m\"a is \\n\"\u001b[0m\u001b[0;34m,\u001b[0m \u001b[0ma\u001b[0m\u001b[0;34m,\u001b[0m \u001b[0;34m\"\\n and has shape \"\u001b[0m\u001b[0;34m,\u001b[0m \u001b[0ma\u001b[0m\u001b[0;34m.\u001b[0m\u001b[0mshape\u001b[0m\u001b[0;34m)\u001b[0m\u001b[0;34m\u001b[0m\u001b[0;34m\u001b[0m\u001b[0m\n\u001b[1;32m      6\u001b[0m \u001b[0mprint\u001b[0m\u001b[0;34m(\u001b[0m\u001b[0;34m\"b is \\n\"\u001b[0m\u001b[0;34m,\u001b[0m \u001b[0mb\u001b[0m\u001b[0;34m,\u001b[0m \u001b[0;34m\"\\n and has shape \"\u001b[0m\u001b[0;34m,\u001b[0m \u001b[0mb\u001b[0m\u001b[0;34m.\u001b[0m\u001b[0mshape\u001b[0m\u001b[0;34m)\u001b[0m\u001b[0;34m\u001b[0m\u001b[0;34m\u001b[0m\u001b[0m\n\u001b[0;32m----> 7\u001b[0;31m \u001b[0mprint\u001b[0m\u001b[0;34m(\u001b[0m\u001b[0;34m\"a+b is \\n\"\u001b[0m\u001b[0;34m,\u001b[0m \u001b[0ma\u001b[0m\u001b[0;34m+\u001b[0m\u001b[0mb\u001b[0m\u001b[0;34m,\u001b[0m \u001b[0;34m\"\\n and has shape \"\u001b[0m\u001b[0;34m,\u001b[0m \u001b[0;34m(\u001b[0m\u001b[0ma\u001b[0m\u001b[0;34m+\u001b[0m\u001b[0mb\u001b[0m\u001b[0;34m)\u001b[0m\u001b[0;34m.\u001b[0m\u001b[0mshape\u001b[0m\u001b[0;34m)\u001b[0m\u001b[0;34m\u001b[0m\u001b[0;34m\u001b[0m\u001b[0m\n\u001b[0m\u001b[1;32m      8\u001b[0m \u001b[0mprint\u001b[0m\u001b[0;34m(\u001b[0m\u001b[0;34m\"a*b is \\n\"\u001b[0m\u001b[0;34m,\u001b[0m \u001b[0ma\u001b[0m\u001b[0;34m*\u001b[0m\u001b[0mb\u001b[0m\u001b[0;34m,\u001b[0m \u001b[0;34m\"\\n and has shape \"\u001b[0m\u001b[0;34m,\u001b[0m \u001b[0;34m(\u001b[0m\u001b[0ma\u001b[0m\u001b[0;34m+\u001b[0m\u001b[0mb\u001b[0m\u001b[0;34m)\u001b[0m\u001b[0;34m.\u001b[0m\u001b[0mshape\u001b[0m\u001b[0;34m)\u001b[0m\u001b[0;34m\u001b[0m\u001b[0;34m\u001b[0m\u001b[0m\n",
      "\u001b[0;31mValueError\u001b[0m: operands could not be broadcast together with shapes (3,3) (4,1) "
     ]
    }
   ],
   "source": [
    "## Example of Inompatible shapes\n",
    "a = np.array(np.arange(9)).reshape(3,3)\n",
    "b = np.array(np.arange(4)).reshape(4,1)\n",
    "\n",
    "print(\"a is \\n\", a, \"\\n and has shape \", a.shape)\n",
    "print(\"b is \\n\", b, \"\\n and has shape \", b.shape)\n",
    "print(\"a+b is \\n\", a+b, \"\\n and has shape \", (a+b).shape)\n",
    "print(\"a*b is \\n\", a*b, \"\\n and has shape \", (a+b).shape)\n"
   ]
  },
  {
   "cell_type": "markdown",
   "metadata": {},
   "source": [
    "### Why do we care?\n",
    "Why not just write `for` loops?\n",
    "\n",
    "Broadcasting not only simplifies the code we write, it also can be much faster. Python is an interpreted language, and if we attempt to write a `for` we can end up having code take hours longer then necessary. Python , or the corresponding module, provides shortcuts to certain code that is implemented and compiled in C. Part of being an exceptional programmer is understanding how to use the *fast lanes* provided to us by the developers.\n",
    "For more details see https://docs.scipy.org/doc/numpy/reference/ufuncs.html\n",
    "\n",
    "\n",
    "<span style=\"color:red\"> This is an important lesson, since as we progress through this course, this is the difference between code that finishes running in short order or takes days to completion. </span>\n",
    "<br> Here is a short example illustrating this point by naively writing our own function to multiply a multidimensional array by a scalar. "
   ]
  },
  {
   "cell_type": "code",
   "execution_count": 4,
   "metadata": {},
   "outputs": [
    {
     "name": "stdout",
     "output_type": "stream",
     "text": [
      "With a for loop: \n",
      "\n",
      "5.87 ms ± 367 µs per loop (mean ± std. dev. of 7 runs, 100 loops each)\n",
      "\n",
      "With broadcasting: \n",
      "\n",
      "3.29 µs ± 116 ns per loop (mean ± std. dev. of 7 runs, 100000 loops each)\n",
      "\n",
      " Our naive for loop is  1786.4605610329404  times slower than using broadcasting.\n"
     ]
    }
   ],
   "source": [
    "## multiplies any multidimensional array, a, by a scalar b\n",
    "def marrsc(a,b):\n",
    "    c=np.zeros(a.shape)\n",
    "    for x,y in np.nditer([a,c], op_flags = [['readonly'],[\"readwrite\"]] ): \n",
    "        y[...] = x*b\n",
    "    return a\n",
    "\n",
    "## Create arbitrary array\n",
    "a = npr.rand(50,33)\n",
    "\n",
    "## Time how long it takes to execute give function we wrote\n",
    "print('With a for loop: \\n')\n",
    "t1= %timeit -o marrsc(a,3.)\n",
    "\n",
    "## Time how long it takes to use broadcasting\n",
    "print('\\nWith broadcasting: \\n')\n",
    "t2= %timeit -o a*3.\n",
    "\n",
    "## Compare the difference\n",
    "print(\"\\n Our naive for loop is \", t1.average/t2.average, \" times slower than using broadcasting.\")\n"
   ]
  },
  {
   "cell_type": "markdown",
   "metadata": {},
   "source": [
    "## <span style=\"color:red\"> (1) Questions</span>\n",
    "\n",
    "0. Create a new markdown cell below and type in the answers."
   ]
  },
  {
   "cell_type": "markdown",
   "metadata": {},
   "source": [
    "1. Please write down whether the following shapes are compatible and if so what is the resulting shape."
   ]
  },
  {
   "cell_type": "code",
   "execution_count": 5,
   "metadata": {},
   "outputs": [
    {
     "name": "stdout",
     "output_type": "stream",
     "text": [
      "Has shape  (2, 3, 3)\n"
     ]
    }
   ],
   "source": [
    "import numpy as np\n",
    "##################\n",
    "## A. 2x3x1 and 3 \n",
    "## Yes, shape 2x3x3\n",
    "##################\n",
    "a = np.array(np.arange(6)).reshape(2,3,1)\n",
    "b = np.array(np.arange(3)).reshape(3)\n",
    "\n",
    "print(\"Has shape \", (a+b).shape)\n"
   ]
  },
  {
   "cell_type": "code",
   "execution_count": 6,
   "metadata": {},
   "outputs": [
    {
     "name": "stdout",
     "output_type": "stream",
     "text": [
      "Has shape  (5, 3)\n"
     ]
    }
   ],
   "source": [
    "##################\n",
    "## B. 1x3 and 5x1\n",
    "## Yes, shape 5x3\n",
    "##################\n",
    "a = np.array(np.arange(3)).reshape(1,3)\n",
    "b = np.array(np.arange(5)).reshape(5,1)\n",
    "\n",
    "print(\"Has shape \", (a+b).shape)\n"
   ]
  },
  {
   "cell_type": "code",
   "execution_count": 7,
   "metadata": {},
   "outputs": [
    {
     "name": "stdout",
     "output_type": "stream",
     "text": [
      "Has shape: Error\n"
     ]
    }
   ],
   "source": [
    "##################\n",
    "## C. 2x1x4 and 1x7x4\n",
    "## No, cannot broadcast\n",
    "##################\n",
    "a = np.array(np.arange(100)).reshape(10,10)\n",
    "b = np.array(np.arange(5)).reshape(5,1)\n",
    "\n",
    "#print(\"Has shape \", (a+b).shape)\n",
    "print(\"Has shape: Error\")"
   ]
  },
  {
   "cell_type": "code",
   "execution_count": 8,
   "metadata": {},
   "outputs": [
    {
     "name": "stdout",
     "output_type": "stream",
     "text": [
      "Has shape  (2, 7, 4)\n"
     ]
    }
   ],
   "source": [
    "##################\n",
    "## D. 2x1x4 and 1x7x4\n",
    "## Yes, shape 2x7x4\n",
    "##################\n",
    "a = np.array(np.arange(8)).reshape(2,1,4)\n",
    "b = np.array(np.arange(28)).reshape(1,7,4)\n",
    "\n",
    "print(\"Has shape \", (a+b).shape)"
   ]
  },
  {
   "cell_type": "code",
   "execution_count": 9,
   "metadata": {},
   "outputs": [
    {
     "name": "stdout",
     "output_type": "stream",
     "text": [
      "Has shape: Error\n"
     ]
    }
   ],
   "source": [
    "##################\n",
    "## E. 300x300x3 and 60x1\n",
    "## No, cannot broadcast\n",
    "##################\n",
    "a = np.array(np.arange(270000)).reshape(300,300,3)\n",
    "b = np.array(np.arange(60)).reshape(60,1)\n",
    "\n",
    "#print(\"Has shape \", (a+b).shape)\n",
    "print(\"Has shape: Error\")"
   ]
  },
  {
   "cell_type": "markdown",
   "metadata": {},
   "source": [
    "2. Which operations below would be valid operations if python did not do broadcasting? Which operations below can be performed after broadcasting? Check by writing the corresponding code in a code cell below.\n",
    "\n",
    "    1. $$\\begin{bmatrix} 6\\\\ 9 \\\\ 0 \\\\ 7 \\end{bmatrix} * \\begin{bmatrix} 2 & 4\\end{bmatrix} $$ <br>\n",
    "    2. $$\\begin{bmatrix} 1 & 3 \\\\ 2 & 1  \\end{bmatrix} + \\begin{bmatrix} 11 & 33\\end{bmatrix} $$ <br>\n",
    "    3. $$\\begin{bmatrix} 1 & 7 \\\\ 2 & 9 \\\\ 3 & 4 \\end{bmatrix} * \\begin{bmatrix} 1 \\\\ 3  \\\\ 7\\end{bmatrix} $$"
   ]
  },
  {
   "cell_type": "markdown",
   "metadata": {},
   "source": [
    "### Answer"
   ]
  },
  {
   "cell_type": "markdown",
   "metadata": {},
   "source": [
    "Operations valid w/o broadcasting: A\n",
    "\n",
    "Operations valid with broadcasting: A,B,C"
   ]
  },
  {
   "cell_type": "markdown",
   "metadata": {},
   "source": [
    "### Explanation"
   ]
  },
  {
   "cell_type": "code",
   "execution_count": 10,
   "metadata": {},
   "outputs": [
    {
     "name": "stdout",
     "output_type": "stream",
     "text": [
      "Without Broadcasting; shape: (4, 2)\n",
      "With Broadcasting; shape: (4, 2)\n"
     ]
    }
   ],
   "source": [
    "#####################\n",
    "## A\n",
    "#####################\n",
    "\n",
    "a = np.array([6, 9, 0, 7]).reshape(4, 1)\n",
    "b = np.array([2, 4]).reshape(1, 2)\n",
    "\n",
    "\n",
    "print(\"Without Broadcasting; shape:\",(a@b).shape)\n",
    "print(\"With Broadcasting; shape:\", (a*b).shape)"
   ]
  },
  {
   "cell_type": "code",
   "execution_count": 11,
   "metadata": {},
   "outputs": [
    {
     "name": "stdout",
     "output_type": "stream",
     "text": [
      "Without Broadcasting; shape: Error\n",
      "With Broadcasting; shape: (2, 2)\n"
     ]
    }
   ],
   "source": [
    "#####################\n",
    "## B\n",
    "#####################\n",
    "\n",
    "a = np.array([1, 3, 2, 1]).reshape(2, 2)\n",
    "b = np.array([11, 33]).reshape(1, 2)\n",
    "\n",
    "\n",
    "# print(\"Without Broadcasting; shape:\",(a@b).shape)\n",
    "print(\"Without Broadcasting; shape: Error\")\n",
    "print(\"With Broadcasting; shape:\", (a*b).shape)"
   ]
  },
  {
   "cell_type": "code",
   "execution_count": 12,
   "metadata": {},
   "outputs": [
    {
     "name": "stdout",
     "output_type": "stream",
     "text": [
      "Without Broadcasting; shape: Error\n",
      "With Broadcasting; shape: (3, 2)\n"
     ]
    }
   ],
   "source": [
    "#####################\n",
    "## C\n",
    "#####################\n",
    "\n",
    "a = np.array([[1, 7], [2, 9], [3, 4]])\n",
    "b = np.array([1, 3, 7]).reshape(3, 1)\n",
    "\n",
    "\n",
    "# print(\"Without Broadcasting; shape:\",(a@b).shape)\n",
    "print(\"Without Broadcasting; shape: Error\")\n",
    "print(\"With Broadcasting; shape:\", (a*b).shape)"
   ]
  },
  {
   "cell_type": "markdown",
   "metadata": {},
   "source": [
    "### Continuation of Notes"
   ]
  },
  {
   "cell_type": "markdown",
   "metadata": {},
   "source": [
    "The basic operation we want to understand is matrix multiplication. Not the funny elementwise multiplication of matrices (which is not physically relevant except while writing clean code), but regular matrix multiplication. In numpy/python, the regular matrix multiplication (for 2d arrays) is @ or matmul.\n",
    "\n",
    "First, recall a couple of basic points about matrix multiplication from high school. We assume that we are multiplying two matrices, $A$ and $B$, where $A$ has shape $(m,r)$ and $B$ has shape $(r,n)$ (so multiplication is possible). Note that for multiplication to work the number of columns (the second element in the shape of $A$) must equal the number of rows (the first element in the shape of $B$).\n",
    "\n",
    "We will present two ways to multiply matrices. One will be through an inner product and the other will be using an outer product of vectors. \n"
   ]
  },
  {
   "cell_type": "code",
   "execution_count": 13,
   "metadata": {},
   "outputs": [
    {
     "name": "stdout",
     "output_type": "stream",
     "text": [
      "The product of \n",
      " [[0 2]\n",
      " [3 2]\n",
      " [0 3]] \n",
      " and \n",
      " [[1 0 0]\n",
      " [3 2 2]] \n",
      " is \n",
      " [[6 4 4]\n",
      " [9 4 4]\n",
      " [9 6 6]]\n",
      "We could also multiply them using matmul: \n",
      " [[6 4 4]\n",
      " [9 4 4]\n",
      " [9 6 6]]\n",
      "a has shape (3,2), c has shape (1,3), product is not defined: \n",
      "[[7]\n",
      " [4]\n",
      " [6]]\n"
     ]
    }
   ],
   "source": [
    "a = npr.randint(0,4,(3,2))\n",
    "b = npr.randint(0,4,(2,3))\n",
    "\n",
    "print('The product of \\n',a,'\\n and \\n',b,'\\n is \\n', a@b)\n",
    "print('We could also multiply them using matmul: \\n',np.matmul(a,b))\n",
    "\n",
    "c = npr.randint(0,4,(1,3))\n",
    "# Uncommenting the following line will throw up an error:\n",
    "# a @ c\n",
    "print('a has shape (3,2), c has shape (1,3), product is not defined: ')\n",
    "\n",
    "d = npr.randint(0,4,(3,3))\n",
    "\n",
    "# What happens if we try d @ c? d has shape (3,3) and c has shape (1,3).\n",
    "# We cannot multiply these matrices since the number of columns of the first (3) != no. of rows of second (1). \n",
    "# Here, the operator @ will NOT broadcast c in this case into a (3,3) matrix and then \n",
    "# multiply. Rather, it will simply throw an error. This is useful because \n",
    "# you have to make sure there is some operator that doesn't do things behind your back :).\n",
    "# But of course, d @ c.T works (c.T is the transpose of c with shape (3,1)).\n",
    "\n",
    "print(d @ c.T )\n",
    "\n",
    "# Uncommenting the following error throws an error:\n",
    "# print(d @ c)\n"
   ]
  },
  {
   "cell_type": "markdown",
   "metadata": {},
   "source": [
    "\n",
    "## Inner products\n",
    "\n",
    "The inner product is also known as the dot product, a term you may be more familiar with. if you have two vectors $a$ and $b$ with n coordinates each, you arrange $a$ as a row vector (i.e. with shape 1xn) and $b$ as a column vector (with shape nx1) and multiply the two:\n",
    "$$\n",
    "\\begin{bmatrix}a_1&\\ldots& a_n\\end{bmatrix} \n",
    "\\begin{bmatrix} b_1\\\\\\vdots\\\\ b_n\\end{bmatrix} \n",
    "= a_1b_1+a_2b_2 +\\ldots + a_n b_n.\n",
    "$$\n",
    "Of course, you could arrange $b$ as the row vector and $a$ as the column, and multiply the row vector $b$ by the column vector $a$ to get the same result.\n",
    "The result is a number (1x1). Recall that the inner product gives you the angle between the vectors $a$ and $b$, specifically,\n",
    "$$\n",
    "a \\cdot b = |a||b| \\cos\\theta,\n",
    "$$\n",
    "where $|a|$ and $|b|$ are the lengths of the vectors $a$ and $b$ respectively, and $\\theta$ the angle between them. The above equation applied on $a$ and $a$ would give,\n",
    "$$\n",
    "a \\cdot a = |a|^2\\cos 0 = |a|^2,\n",
    "$$\n",
    "so the length of a vector is just the square root of the inner product of the vector with itself. \n",
    "\n",
    "### Matrix multiplication via the inner product. \n",
    "\n",
    "Let $A$ and $B$ be two matrices with shapes $(m,r)$ and $(r,n)$ respectively. The product has shape $(m,n)$, and the \n",
    "$(i,j)$th element of the product is just the inner product between the $i'$th row of $A$ and the $j'$th column of $B$. So  \n",
    "$$\n",
    "A = \\begin{bmatrix} --- {{\\bf a}_1} --- \\\\ \\vdots \\\\ ---{{\\bf a}_m} ---\\end{bmatrix},\n",
    "$$\n",
    "where the ${\\bf a}_i$s are vectors, each with $r$ coordinates (because $A$ has $r$ columns), and \n",
    "$$\n",
    "B = \\begin{bmatrix} | & \\ldots & | \\\\ {{\\bf b}_1} &\\ldots &{{\\bf b}_n} \\\\ | &\\ldots & | \\end{bmatrix},\n",
    "$$\n",
    "where the ${\\bf b}_j$s are vectors, again each with $r$ coordinates (because $B$ has $r$ rows).\n",
    "Then the product has shape $(m,n)$ (i.e. $m$ rows and $n$ columns) and its entry in the $i$th row and $j$th column is the\n",
    "inner product between ${\\bf a}_i$ and ${\\bf b}_j$ as described above.\n",
    "\n"
   ]
  },
  {
   "cell_type": "code",
   "execution_count": 14,
   "metadata": {},
   "outputs": [
    {
     "name": "stdout",
     "output_type": "stream",
     "text": [
      "u is a vector with shape  (4,)\n",
      "v is a vector with shape  (4,)\n",
      "The inner product of  [1 0 1 0]  and  [-2 -1  0 -2]  is  -2\n",
      "The inner product of \n",
      " [[ 1  0 -2 -2]] \n",
      " and \n",
      " [[-2]\n",
      " [-1]\n",
      " [-1]\n",
      " [ 0]] \n",
      " is  [[0]] \n",
      " which we could also obtain using using @:  [[0]]\n",
      "The product of \n",
      " [[-3  2]\n",
      " [ 2 -2]\n",
      " [-2  0]] \n",
      " and \n",
      " [[ 2  0 -1 -1 -1]\n",
      " [-1  0  2  1 -3]] \n",
      " is \n",
      " [[-8  0  7  5 -3]\n",
      " [ 6  0 -6 -4  4]\n",
      " [-4  0  2  2  2]] \n",
      " with shape  (3, 5)\n",
      "The (2,3) element of the product is the dot product between the 2nd row of A: \n",
      " [ 2 -2] \n",
      " and the third column of B: \n",
      " [-1  2] \n",
      " which is  -6\n"
     ]
    }
   ],
   "source": [
    "a = npr.randint(-2,2,(1,4))\n",
    "b = npr.randint(-2,2,(1,4))\n",
    "\n",
    "# Calling the dot/inner product on two row vectors throws up an error. Uncommenting the \n",
    "# following line will result in an error.\n",
    "# np.dot(a,b)\n",
    "\n",
    "# However, if u and v are not 2d arrays like above, but 1d arrays as follows:\n",
    "u = npr.randint(-2,2,4)\n",
    "print('u is a vector with shape ',u.shape)\n",
    "v = npr.randint(-2,2,4)\n",
    "print('v is a vector with shape ',v.shape)\n",
    "# Then numpy.dot has no problem with aligning the vectors appropriately and giving the inner product:\n",
    "print('The inner product of ',u,' and ',v,' is ',np.dot(u,v))\n",
    "# The above is especially useful when we take 1-d slices of matrices, since these are returned as vectors.\n",
    "\n",
    "# For the dot/inner product, we must arrange a as a row and b as a column. Lucky\n",
    "# for us, a is already a row. So we just need to rearrange\n",
    "# b.\n",
    "\n",
    "b.shape = (4,1)\n",
    "\n",
    "# You can now use the numpy.dot operation (or a simple @ because the inner product is just\n",
    "# a special case of regular matrix multiplication. We use np.dot to emphasize we are dealing\n",
    "# with vectors and we are taking the inner product. Verify this by hand.\n",
    "\n",
    "print('The inner product of \\n',a,'\\n and \\n',b,'\\n is ',np.dot(a,b),'\\n which we could also obtain using using @: ', a@b)\n",
    "\n",
    "A = npr.randint(-3,3,(3,2))\n",
    "B = npr.randint(-3,3,(2,5))\n",
    "\n",
    "\n",
    "print('The product of \\n',A,'\\n and \\n',B,'\\n is \\n',A @ B,'\\n with shape ',(A @ B).shape)\n",
    "# Note the previous comment about 1-d slices of matrices in the following line:\n",
    "print('The (2,3) element of the product is the dot product between the 2nd row of A: \\n',A[1,:],'\\n and the third column of B: \\n',B[:,2],'\\n which is ',np.dot(A[1,:],B[:,2]))\n",
    "\n",
    "# Try a few other elements of the product by taking inner products of appropriate slices."
   ]
  },
  {
   "cell_type": "markdown",
   "metadata": {},
   "source": [
    "## (b) Outer products\n",
    "\n",
    "The outer product is the \"other\" way to multiply two vectors. Here you take the first vector $a$ and arrange it as a column vector (so has shape nx1). The second vector is arranged as a row vector (so has shape 1xn). The number of columns of the first vector (1) equals the number of rows of the second (1 again), so these are compatible as well. Their product has size nxn, and is called the outer product:\n",
    "$$\n",
    "\\begin{bmatrix} a_1\\\\\\vdots \\\\ a_n \\end{bmatrix}\n",
    "\\begin{bmatrix} b_1 &\\ldots & b_n\\end{bmatrix}\n",
    "=\n",
    "\\begin{bmatrix}\n",
    "a_1b_1 & a_1b_2 & \\ldots & a_1b_n \\\\\n",
    "a_2b_1 & a_2 b_2 & \\ldots & a_2b_n\\\\\n",
    "\\vdots & \\vdots & \\vdots & \\vdots\\\\\n",
    "a_nb_1 & a_n b_2 & \\ldots & a_nb_n\n",
    "\\end{bmatrix}\n",
    "$$\n",
    "Verify that the multiplication above is consistent with the inner product way of multiplying the $(n,1)$ and $(1,n)$ matrices\n",
    "above. Now also note that the vectors $a$ and $b$ need not have the same length for their outer product to be defined (namely,\n",
    "it is perfectly ok if $a$ had length $m$ and $b$ had length $n$. Then we would multiply a $(m,1)$ matrix and a $(1,n)$ matrix,\n",
    "which is valid (number of columns of the first = number of rows of the second =1). The product is then a $(m,n)$ matrix. \n",
    "\n",
    "\n",
    "###  Multiplying Matrices through the Outer Product\n",
    "The second method, which is done by using the outer product, calculates $A \\times B$ by multiplying columns of $A$ by rows of $B$. Thus if $A$ has shape $(m,r)$ and $B$ has shape $(r,n)$, we now think of the columns of $A$ and the rows of $B$. Namely,\n",
    "we think of $A$ as  \n",
    "$$\n",
    "A = \\begin{bmatrix} | & \\ldots & | \\\\ {{\\bf a}_1} &\\ldots &{{\\bf a}_r} \\\\ | &\\ldots & | \\end{bmatrix},\n",
    "$$\n",
    "where each ${{\\bf a}_i}$ is a vector with $m$ coordinates (because $A$ has $m$ rows), and $B$ as\n",
    "$$\n",
    "B = \\begin{bmatrix} --- {{\\bf b}_1} --- \\\\ \\vdots \\\\ ---{{\\bf b}_r} ---\\end{bmatrix},\n",
    "$$\n",
    "where the ${\\bf b}_j$s are vectors, again each with $r$ coordinates (because $B$ has $r$ rows). Then the product of $A$ and $B$\n",
    "is \n",
    "$$ \n",
    "\\begin{bmatrix} | \\\\ {{\\bf a}_1}\\\\ | \\end{bmatrix}\n",
    "\\begin{bmatrix} ---{{\\bf b}_1}--- \\end{bmatrix} \n",
    "+ \n",
    "\\ldots \n",
    "+\n",
    "\\begin{bmatrix} | \\\\ {{\\bf a}_r}\\\\ | \\end{bmatrix}\n",
    "\\begin{bmatrix} ---{{\\bf b}_r}--- \\end{bmatrix} \n",
    "$$\n",
    "Of course this is consistent with the inner product way of multiplying matrices! Can you see how?\n",
    "\n",
    "Let us do an example.\n",
    "$$\\begin{bmatrix} 1 & 2 \\\\ 3 & 4  \\end{bmatrix} \\times  \\begin{bmatrix} 5 & 6 \\\\ 7 & 8  \\end{bmatrix}=  \n",
    "\\begin{bmatrix} 1 \\\\ 3 \\end{bmatrix}  \\begin{bmatrix} 5 & 6 \\end{bmatrix} +\n",
    "\\begin{bmatrix} 2 \\\\ 4 \\end{bmatrix} \\begin{bmatrix} 7 & 8  \\end{bmatrix}\n",
    "$$\n"
   ]
  },
  {
   "cell_type": "code",
   "execution_count": 15,
   "metadata": {},
   "outputs": [
    {
     "name": "stdout",
     "output_type": "stream",
     "text": [
      "The outer product of \n",
      " [[-2]\n",
      " [ 0]\n",
      " [ 1]\n",
      " [-1]] \n",
      " and \n",
      " [[-1  0  0 -1]] \n",
      " is \n",
      " [[ 2  0  0  2]\n",
      " [ 0  0  0  0]\n",
      " [-1  0  0 -1]\n",
      " [ 1  0  0  1]] \n",
      " which we could also obtain using using matmul: \n",
      " [[ 2  0  0  2]\n",
      " [ 0  0  0  0]\n",
      " [-1  0  0 -1]\n",
      " [ 1  0  0  1]]\n",
      "The product of \n",
      " [[-3  1]\n",
      " [-2  0]\n",
      " [-2  0]] \n",
      " and \n",
      " [[ 2 -2 -3  1 -1]\n",
      " [-3  0 -2  0 -2]] \n",
      " is \n",
      " [[-9  6  7 -3  1]\n",
      " [-4  4  6 -2  2]\n",
      " [-4  4  6 -2  2]] \n",
      " with shape  (3, 5)\n",
      "AB can be obtained as \n",
      " [[-9  6  7 -3  1]\n",
      " [-4  4  6 -2  2]\n",
      " [-4  4  6 -2  2]] \n",
      " which sure enough coincides with \n",
      " [[-9  6  7 -3  1]\n",
      " [-4  4  6 -2  2]\n",
      " [-4  4  6 -2  2]]\n"
     ]
    }
   ],
   "source": [
    "a = npr.randint(-2,2,(1,4))\n",
    "b = npr.randint(-2,2,(1,4))\n",
    "\n",
    "# For the outer product of a and b, we must arrange a as a column and b as a row. Lucky\n",
    "# for us, b is already a row. So we just need to rearrange\n",
    "# a.\n",
    "\n",
    "a.shape = (4,1)\n",
    "\n",
    "# You can now use the @ operation, since once we arrange the vectors appropriately, \n",
    "# the outer product is just an ordinary matrix multiplication. Verify this by hand.\n",
    "\n",
    "print('The outer product of \\n',a,'\\n and \\n',b,'\\n is \\n',a@b,'\\n which we could also obtain using using matmul: \\n', np.matmul(a,b))\n",
    "\n",
    "A = npr.randint(-3,3,(3,2))\n",
    "B = npr.randint(-3,3,(2,5))\n",
    "\n",
    "\n",
    "print('The product of \\n',A,'\\n and \\n',B,'\\n is \\n',A @ B,'\\n with shape ',(A @ B).shape)\n",
    "\n",
    "# We can obtain the product of A and B using the outer product. Let us extract the columns of A\n",
    "# To extract the first column. Note that we want the shape to be (3,1) (not (3,))\n",
    "a1 = A[:,0].reshape(len(A[:,0]),1)\n",
    "# the second:\n",
    "a2 = A[:,1].reshape(len(A[:,1]),1)\n",
    "# Similarly, we extract the rows of B\n",
    "b1 = B[0,:].reshape(1,len(B[0,:]))\n",
    "b2 = B[1,:].reshape(1,len(B[1,:]))\n",
    "\n",
    "# The outer product way to multiply A and B:\n",
    "\n",
    "print('AB can be obtained as \\n', np.add(a1@b1, a2@b2),'\\n which sure enough coincides with \\n', A @ B)"
   ]
  },
  {
   "cell_type": "markdown",
   "metadata": {},
   "source": [
    "## <span style=\"color:red\"> (2) Questions</span>\n",
    "\n",
    "0. Create a new markdown cell below and type in the answers.\n",
    "\n",
    "\n"
   ]
  },
  {
   "cell_type": "markdown",
   "metadata": {},
   "source": [
    "1. Write a function that takes in two vectors and returns their inner product. Use a loop or nditer, not inbuilt functions (we aren't aiming for a good implementation, but to ensure you understand inner products :))\n"
   ]
  },
  {
   "cell_type": "code",
   "execution_count": 16,
   "metadata": {},
   "outputs": [
    {
     "name": "stdout",
     "output_type": "stream",
     "text": [
      "Vector 1: \n",
      " [[-5 -5  1]]\n",
      "Vector 2: \n",
      " [[ -9]\n",
      " [ -8]\n",
      " [-10]]\n",
      "InnerProduct: \n",
      " [[75.]]\n"
     ]
    }
   ],
   "source": [
    "#############\n",
    "## Function\n",
    "############\n",
    "def InnerProduct(vec1,vec2):\n",
    "    prod = np.zeros((vec1.shape[0],vec2.shape[1]))\n",
    "    for i in range(vec1.shape[0]):\n",
    "        for j in range(vec2.shape[1]):\n",
    "            for k in range(vec2.shape[0]):\n",
    "                prod[i][j] += vec1[i][k]*vec2[k][j]\n",
    "    return prod\n",
    "\n",
    "#############\n",
    "## Visualize Function\n",
    "############\n",
    "a = npr.randint(-10,10,(1,3))\n",
    "b = npr.randint(-10,10,(3,1))\n",
    "c = InnerProduct(a,b)\n",
    "print(\"Vector 1: \\n\",a)\n",
    "print(\"Vector 2: \\n\",b)\n",
    "print(\"InnerProduct: \\n\",c)"
   ]
  },
  {
   "cell_type": "markdown",
   "metadata": {},
   "source": [
    "2. Verify the previous function by using the numpy inbuilt command np.dot that computes the inner product. "
   ]
  },
  {
   "cell_type": "code",
   "execution_count": 17,
   "metadata": {},
   "outputs": [
    {
     "name": "stdout",
     "output_type": "stream",
     "text": [
      "Vector 1: \n",
      " [[-5 -5  1]]\n",
      "Vector 2: \n",
      " [[ -9]\n",
      " [ -8]\n",
      " [-10]]\n",
      "np.dot: \n",
      " [[75]]\n"
     ]
    }
   ],
   "source": [
    "d = np.dot(a,b)\n",
    "print(\"Vector 1: \\n\",a)\n",
    "print(\"Vector 2: \\n\",b)\n",
    "print(\"np.dot: \\n\",d)"
   ]
  },
  {
   "cell_type": "markdown",
   "metadata": {},
   "source": [
    "3. Write a function that takes in two vectors and returns their outer product. Again, use a loop or nditer, not inbuilt functions."
   ]
  },
  {
   "cell_type": "code",
   "execution_count": 18,
   "metadata": {},
   "outputs": [
    {
     "name": "stdout",
     "output_type": "stream",
     "text": [
      "Vector 1: \n",
      " [[1]\n",
      " [3]\n",
      " [4]\n",
      " [9]]\n",
      "Vector 2: \n",
      " [[ 4 -1 -5 -2]]\n",
      "OuterProduct: \n",
      " [[  4.  -1.  -5.  -2.]\n",
      " [ 12.  -3. -15.  -6.]\n",
      " [ 16.  -4. -20.  -8.]\n",
      " [ 36.  -9. -45. -18.]]\n"
     ]
    }
   ],
   "source": [
    "#############\n",
    "## Function\n",
    "############\n",
    "def OuterProduct(vec1,vec2):\n",
    "    prod = np.zeros((vec1.shape[0],vec2.shape[1]))\n",
    "    \n",
    "    for k in range(vec2.shape[0]):\n",
    "        for i in range(vec1.shape[0]):\n",
    "            for j in range(vec2.shape[1]):\n",
    "                prod[i][j] += vec1[i][k]*vec2[k][j]\n",
    "    return prod\n",
    "\n",
    "#############\n",
    "## Visualize Function\n",
    "############\n",
    "a = npr.randint(-10,10,(4,1))\n",
    "b = npr.randint(-10,10,(1,4))\n",
    "c = OuterProduct(a,b)\n",
    "print(\"Vector 1: \\n\",a)\n",
    "print(\"Vector 2: \\n\",b)\n",
    "print(\"OuterProduct: \\n\",c)"
   ]
  },
  {
   "cell_type": "markdown",
   "metadata": {},
   "source": [
    "4. Verify the previous function by using the numpy inbuilt command np.matmul or the operator @."
   ]
  },
  {
   "cell_type": "code",
   "execution_count": 19,
   "metadata": {},
   "outputs": [
    {
     "name": "stdout",
     "output_type": "stream",
     "text": [
      "Vector 1: \n",
      " [[1]\n",
      " [3]\n",
      " [4]\n",
      " [9]]\n",
      "Vector 2: \n",
      " [[ 4 -1 -5 -2]]\n",
      "np.dot: \n",
      " [[  4  -1  -5  -2]\n",
      " [ 12  -3 -15  -6]\n",
      " [ 16  -4 -20  -8]\n",
      " [ 36  -9 -45 -18]]\n"
     ]
    }
   ],
   "source": [
    "d = a@b\n",
    "print(\"Vector 1: \\n\",a)\n",
    "print(\"Vector 2: \\n\",b)\n",
    "print(\"np.dot: \\n\",d)"
   ]
  },
  {
   "cell_type": "markdown",
   "metadata": {},
   "source": [
    "### Notes\n",
    "In this sequence of problems, we will generate random matrices (2d arrays), and calculate the product by using by both inner and outer product methods and then compare them with the product implemented in numpy. \n",
    " \n"
   ]
  },
  {
   "cell_type": "markdown",
   "metadata": {},
   "source": [
    "5. Write a function in numpy that takes two arbitrary shape matrices and calculates the product by the inner product method. Make sure it checks whether their shapes are compatible.  "
   ]
  },
  {
   "cell_type": "code",
   "execution_count": 20,
   "metadata": {},
   "outputs": [
    {
     "name": "stdout",
     "output_type": "stream",
     "text": [
      "Invalid Matrix\n",
      "\n",
      "Vector 1: \n",
      " [[ 6  0  4]\n",
      " [ 3 -4 -6]]\n",
      "Vector 2: \n",
      " [[-6]\n",
      " [-3]]\n",
      "InnerProduct: \n",
      " Invalid matrix size\n",
      "\n",
      "---------------\n",
      "\n",
      "Valid Matrix\n",
      "\n",
      "Vector 1: \n",
      " [[-9 -6  4]\n",
      " [ 9 -8  0]]\n",
      "Vector 2: \n",
      " [[ 8  6]\n",
      " [-4  1]\n",
      " [-2  4]]\n",
      "InnerProduct: \n",
      " [[-56. -44.]\n",
      " [104.  46.]]\n"
     ]
    }
   ],
   "source": [
    "#############\n",
    "## Function\n",
    "############\n",
    "def InnerProduct(vec1,vec2):\n",
    "    if vec1.shape[1] == vec2.shape[0]:\n",
    "        prod = np.zeros((vec1.shape[0],vec2.shape[1]))\n",
    "        for i in range(vec1.shape[0]):\n",
    "            for j in range(vec2.shape[1]):\n",
    "                for k in range(vec2.shape[0]):\n",
    "                    prod[i][j] += vec1[i][k]*vec2[k][j]\n",
    " \n",
    "    else:\n",
    "        return \"Invalid matrix size\"\n",
    "\n",
    "    return prod\n",
    "\n",
    "#############\n",
    "## Visualize Function\n",
    "############\n",
    "print(\"Invalid Matrix\\n\")\n",
    "a = npr.randint(-10,10,(2,3))\n",
    "b = npr.randint(-10,10,(2,1))\n",
    "c = InnerProduct(a,b)\n",
    "print(\"Vector 1: \\n\",a)\n",
    "print(\"Vector 2: \\n\",b)\n",
    "print(\"InnerProduct: \\n\",c)\n",
    "\n",
    "print(\"\\n---------------\")\n",
    "print(\"\\nValid Matrix\\n\")\n",
    "a = npr.randint(-10,10,(2,3))\n",
    "b = npr.randint(-10,10,(3,2))\n",
    "c = InnerProduct(a,b)\n",
    "print(\"Vector 1: \\n\",a)\n",
    "print(\"Vector 2: \\n\",b)\n",
    "print(\"InnerProduct: \\n\",c)"
   ]
  },
  {
   "cell_type": "markdown",
   "metadata": {},
   "source": [
    "\n",
    "\n",
    "6. Write a function in numpy that takes two arbitrary shape matrices and calculates the product by the outer product method. Make sure it checks whether their shapes are compatible. "
   ]
  },
  {
   "cell_type": "code",
   "execution_count": 21,
   "metadata": {},
   "outputs": [
    {
     "name": "stdout",
     "output_type": "stream",
     "text": [
      "Invalid Matrix\n",
      "\n",
      "Vector 1: \n",
      " [[ 4 -8  7]\n",
      " [ 7  0 -6]]\n",
      "Vector 2: \n",
      " [[ 3]\n",
      " [-8]]\n",
      "OuterProduct: \n",
      " Invalid matrix size\n",
      "\n",
      "---------------\n",
      "\n",
      "Valid Matrix\n",
      "\n",
      "Vector 1: \n",
      " [[  0 -10   2]\n",
      " [-10   5   7]]\n",
      "Vector 2: \n",
      " [[ 8 -9]\n",
      " [ 5  8]\n",
      " [ 9  8]]\n",
      "OuterProduct: \n",
      " [[-32. -64.]\n",
      " [  8. 186.]]\n"
     ]
    }
   ],
   "source": [
    "#############\n",
    "## Function\n",
    "############\n",
    "def OuterProduct(vec1,vec2):\n",
    "    if vec1.shape[1] == vec2.shape[0]:    \n",
    "        prod = np.zeros((vec1.shape[0],vec2.shape[1]))\n",
    "\n",
    "        for k in range(vec2.shape[0]):\n",
    "            for i in range(vec1.shape[0]):\n",
    "                for j in range(vec2.shape[1]):\n",
    "                    prod[i][j] += vec1[i][k]*vec2[k][j]\n",
    "\n",
    "    else:\n",
    "        return \"Invalid matrix size\"                    \n",
    "    return prod\n",
    "\n",
    "\n",
    "#############\n",
    "## Visualize Function\n",
    "############\n",
    "print(\"Invalid Matrix\\n\")\n",
    "a = npr.randint(-10,10,(2,3))\n",
    "b = npr.randint(-10,10,(2,1))\n",
    "c = OuterProduct(a,b)\n",
    "print(\"Vector 1: \\n\",a)\n",
    "print(\"Vector 2: \\n\",b)\n",
    "print(\"OuterProduct: \\n\",c)\n",
    "\n",
    "print(\"\\n---------------\")\n",
    "print(\"\\nValid Matrix\\n\")\n",
    "a = npr.randint(-10,10,(2,3))\n",
    "b = npr.randint(-10,10,(3,2))\n",
    "c = OuterProduct(a,b)\n",
    "print(\"Vector 1: \\n\",a)\n",
    "print(\"Vector 2: \\n\",b)\n",
    "print(\"OuterProduct: \\n\",c)"
   ]
  },
  {
   "cell_type": "markdown",
   "metadata": {},
   "source": [
    "7. Calculate the product by using the numpy operator '@' or np.matmul and verify that it equals the output from the functions written above."
   ]
  },
  {
   "cell_type": "code",
   "execution_count": 22,
   "metadata": {},
   "outputs": [
    {
     "name": "stdout",
     "output_type": "stream",
     "text": [
      "[[-32 -64]\n",
      " [  8 186]]\n"
     ]
    }
   ],
   "source": [
    "print(a @ b)"
   ]
  },
  {
   "cell_type": "markdown",
   "metadata": {},
   "source": [
    "8. Verify that a matrix multiplied by a column vector is simply a linear combination of the columns of the matrix. Namely, if the columns of the matrix A are a_1, a_2, .. a_n and the vector x is (x_1,... x_n), then Ax = x_1 a_1 + ... + x_n a_n. Explain why this is simply the outer product way of multiplying A and x."
   ]
  },
  {
   "cell_type": "code",
   "execution_count": 23,
   "metadata": {},
   "outputs": [
    {
     "name": "stdout",
     "output_type": "stream",
     "text": [
      "[[16]\n",
      " [-7]]\n"
     ]
    }
   ],
   "source": [
    "###################\n",
    "## STEP 1:\n",
    "## Make 2 arrays\n",
    "###################\n",
    "\n",
    "v = npr.randint(-10,10,(2,2))\n",
    "w = npr.randint(-10,10,(2,1))\n",
    "\n",
    "#########################\n",
    "## Make Function\n",
    "## Outer product\n",
    "##   -- multiplying column-wise of the same row AND the column \n",
    "##########################\n",
    "def Trololo(matrix, vector):\n",
    "    if matrix.shape[1] != vector.shape[0]:\n",
    "        return 'Invalid Dimension size'\n",
    "\n",
    "    result = np.zeros((matrix.shape[0], 1), np.int)\n",
    "\n",
    "    for i in range(matrix.shape[0]):\n",
    "        # reshape to match output\n",
    "        result += np.array(matrix[:,i] * vector[i][0]).reshape(matrix.shape[0], 1)\n",
    "    return result\n",
    "\n",
    "print(Trololo(v, w))\n",
    "\n"
   ]
  },
  {
   "cell_type": "markdown",
   "metadata": {},
   "source": [
    "9. Now verify that a row vector multiplied by a matrix is simply a linear combination of the rows of the matrix. Explain again that this is just the outer product way of multiplying.\n"
   ]
  },
  {
   "cell_type": "code",
   "execution_count": 24,
   "metadata": {},
   "outputs": [
    {
     "name": "stdout",
     "output_type": "stream",
     "text": [
      "[[-63  45]]\n"
     ]
    }
   ],
   "source": [
    "###################\n",
    "## STEP 1:\n",
    "## Make 2 arrays\n",
    "###################\n",
    "v = npr.randint(-10,10,(1,2))\n",
    "w = npr.randint(-10,10,(2,2))\n",
    "\n",
    "#########################\n",
    "## Make Function\n",
    "## Outer product\n",
    "##   -- Same as problem  but inverse\n",
    "##########################\n",
    "def Trololo(vector, matrix):\n",
    "    if vector.shape[0] != matrix.shape[1]:\n",
    "        return 'Dimensions are incompatible'\n",
    "\n",
    "    result = np.zeros((1, matrix.shape[1]), np.int)\n",
    "\n",
    "    for i in range(matrix.shape[0]):\n",
    "         result += np.array(vector[i] * matrix[:,i]) \n",
    "    return result\n",
    "\n",
    "print(Trololo(w, v))"
   ]
  },
  {
   "cell_type": "markdown",
   "metadata": {},
   "source": [
    "10. Using the insights in 8: obtain a matrix P such that if A is any matrix with 3 columns, AP is a cyclic shift of the columns of A (namely the first column of A is the second column of AP, second column of A is the third column of AP, and the third column of A becomes the first column of AP)."
   ]
  },
  {
   "cell_type": "code",
   "execution_count": 25,
   "metadata": {
    "scrolled": true
   },
   "outputs": [
    {
     "name": "stdout",
     "output_type": "stream",
     "text": [
      "Regular\n",
      "[[-2  4 -2]\n",
      " [ 4  9 -1]\n",
      " [ 9  9 -1]]\n",
      "Shift\n",
      "[[1 0 0]\n",
      " [0 1 0]\n",
      " [0 0 1]]\n",
      "P\n",
      "[[-2  4 -2]\n",
      " [ 4  9 -1]\n",
      " [ 9  9 -1]]\n"
     ]
    }
   ],
   "source": [
    "# make a Matrix A\n",
    "# Random array from -2 to 2\n",
    "# Dimension 3x3\n",
    "A = a = npr.randint(-10,10,(3,3))\n",
    "print(\"Regular\")\n",
    "print(A)\n",
    "\n",
    "# Cyclic Shift Right\n",
    "B = np.array(\n",
    "    [\n",
    "        [1,0,0],\n",
    "        [0,1,0],\n",
    "        [0,0,1]\n",
    "    ]\n",
    ") \n",
    "print(\"Shift\")\n",
    "print(B)\n",
    "\n",
    "P = A@B\n",
    "\n",
    "print(\"P\")\n",
    "print(P)\n"
   ]
  },
  {
   "cell_type": "markdown",
   "metadata": {},
   "source": [
    "11. Using the insight in 9: obtain P such that if A is any matrix with 3 rows, PA is a cyclic shift of the rows (cyclic as explained in 10.)"
   ]
  },
  {
   "cell_type": "code",
   "execution_count": 26,
   "metadata": {},
   "outputs": [
    {
     "name": "stdout",
     "output_type": "stream",
     "text": [
      "Regular\n",
      "[[ 7  3 -9]\n",
      " [ 4 -4  4]\n",
      " [-2  6  0]]\n",
      "Shift\n",
      "[[0 0 1]\n",
      " [1 0 0]\n",
      " [0 1 0]]\n",
      "P\n",
      "[[-2  6  0]\n",
      " [ 7  3 -9]\n",
      " [ 4 -4  4]]\n"
     ]
    }
   ],
   "source": [
    "# make a Matrix A\n",
    "# Random array from -2 to 2\n",
    "# Dimension 3x3\n",
    "A = a = npr.randint(-10,10,(3,3))\n",
    "print(\"Regular\")\n",
    "print(A)\n",
    "\n",
    "# Cyclic Shift row\n",
    "B = np.array(\n",
    "    [\n",
    "        [0,0,1],\n",
    "        [1,0,0],\n",
    "        [0,1,0]\n",
    "    ]\n",
    ") \n",
    "print(\"Shift\")\n",
    "print(B)\n",
    "\n",
    "P = B@A\n",
    "\n",
    "print(\"P\")\n",
    "print(P)\n"
   ]
  }
 ],
 "metadata": {
  "kernelspec": {
   "display_name": "Python 3",
   "language": "python",
   "name": "python3"
  },
  "language_info": {
   "codemirror_mode": {
    "name": "ipython",
    "version": 3
   },
   "file_extension": ".py",
   "mimetype": "text/x-python",
   "name": "python",
   "nbconvert_exporter": "python",
   "pygments_lexer": "ipython3",
   "version": "3.7.3"
  }
 },
 "nbformat": 4,
 "nbformat_minor": 4
}
